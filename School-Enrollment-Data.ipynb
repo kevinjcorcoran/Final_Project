{
 "cells": [
  {
   "cell_type": "code",
   "execution_count": 3,
   "id": "lonely-music",
   "metadata": {},
   "outputs": [],
   "source": [
    "import pandas as pd\n",
    "import numpy as np"
   ]
  },
  {
   "cell_type": "code",
   "execution_count": 19,
   "id": "active-mills",
   "metadata": {},
   "outputs": [
    {
     "name": "stderr",
     "output_type": "stream",
     "text": [
      "/Users/Kevin/opt/anaconda3/envs/cmpinf0010/lib/python3.7/site-packages/ipykernel_launcher.py:9: SettingWithCopyWarning: \n",
      "A value is trying to be set on a copy of a slice from a DataFrame.\n",
      "Try using .loc[row_indexer,col_indexer] = value instead\n",
      "\n",
      "See the caveats in the documentation: https://pandas.pydata.org/pandas-docs/stable/user_guide/indexing.html#returning-a-view-versus-a-copy\n",
      "  if __name__ == '__main__':\n",
      "/Users/Kevin/opt/anaconda3/envs/cmpinf0010/lib/python3.7/site-packages/ipykernel_launcher.py:10: SettingWithCopyWarning: \n",
      "A value is trying to be set on a copy of a slice from a DataFrame.\n",
      "Try using .loc[row_indexer,col_indexer] = value instead\n",
      "\n",
      "See the caveats in the documentation: https://pandas.pydata.org/pandas-docs/stable/user_guide/indexing.html#returning-a-view-versus-a-copy\n",
      "  # Remove the CWD from sys.path while we load stuff.\n",
      "/Users/Kevin/opt/anaconda3/envs/cmpinf0010/lib/python3.7/site-packages/ipykernel_launcher.py:11: SettingWithCopyWarning: \n",
      "A value is trying to be set on a copy of a slice from a DataFrame.\n",
      "Try using .loc[row_indexer,col_indexer] = value instead\n",
      "\n",
      "See the caveats in the documentation: https://pandas.pydata.org/pandas-docs/stable/user_guide/indexing.html#returning-a-view-versus-a-copy\n",
      "  # This is added back by InteractiveShellApp.init_path()\n",
      "/Users/Kevin/opt/anaconda3/envs/cmpinf0010/lib/python3.7/site-packages/ipykernel_launcher.py:15: SettingWithCopyWarning: \n",
      "A value is trying to be set on a copy of a slice from a DataFrame.\n",
      "Try using .loc[row_indexer,col_indexer] = value instead\n",
      "\n",
      "See the caveats in the documentation: https://pandas.pydata.org/pandas-docs/stable/user_guide/indexing.html#returning-a-view-versus-a-copy\n",
      "  from ipykernel import kernelapp as app\n"
     ]
    },
    {
     "data": {
      "text/plain": [
       "<AxesSubplot:>"
      ]
     },
     "execution_count": 19,
     "metadata": {},
     "output_type": "execute_result"
    },
    {
     "data": {
      "image/png": "[encoded data removed]",
      "text/plain": [
       "<Figure size 432x288 with 1 Axes>"
      ]
     },
     "metadata": {
      "needs_background": "light"
     },
     "output_type": "display_data"
    }
   ],
   "source": [
    "# Import raw dataset\n",
    "enrollment_data_raw = pd.read_csv(\"Enrollment-Data.csv\")\n",
    "# Pull columns needed for operations\n",
    "enrollment_data_edit = enrollment_data_raw[[\"Neighborhood\",\"Estimate; Total:\",\"Estimate; Enrolled in school:\",\\\n",
    "                                            \"Estimate; Enrolled in school: - Enrolled in college, undergraduate years\",\\\n",
    "                                            \"Estimate; Enrolled in school: - Graduate or professional school\"]]\n",
    "\n",
    "# Editing the columns so the total and total enrolled does not include college students\n",
    "enrollment_data_edit[\"Enrolled In College\"] = enrollment_data_raw[\"Estimate; Enrolled in school: - Enrolled in college, undergraduate years\"] + enrollment_data_raw[\"Estimate; Enrolled in school: - Graduate or professional school\"]\n",
    "enrollment_data_edit[\"Total\"] = enrollment_data_edit[\"Estimate; Total:\"] - enrollment_data_edit[\"Enrolled In College\"]\n",
    "enrollment_data_edit[\"Total Enrolled\"] = enrollment_data_edit[\"Estimate; Enrolled in school:\"] - enrollment_data_edit[\"Enrolled In College\"]\n",
    "\n",
    "# Creating a final data set with only the data needed and adding a column with the percentage enrolled\n",
    "enrollment_data = enrollment_data_edit[[\"Neighborhood\",\"Total\",\"Total Enrolled\"]]\n",
    "enrollment_data[\"Percentage Enrolled In School\"] = (enrollment_data[\"Total Enrolled\"] / enrollment_data[\"Total\"])*100\n",
    "enrollment_data = enrollment_data[[\"Neighborhood\", \"Percentage Enrolled In School\"]]\n",
    "\n",
    "#Sorting the values by percentage enrolled and plotting the top ten on a bar graph\n",
    "enrollment_data.sort_values(by = \"Percentage Enrolled In School\", ascending = False, inplace = True)\n",
    "enrollment_data[[\"Neighborhood\",\"Percentage Enrolled In School\"]].head(10).plot.bar()"
   ]
  },
  {
   "cell_type": "code",
   "execution_count": null,
   "id": "requested-world",
   "metadata": {},
   "outputs": [],
   "source": []
  }
 ],
 "metadata": {
  "kernelspec": {
   "display_name": "Python 3",
   "language": "python",
   "name": "python3"
  },
  "language_info": {
   "codemirror_mode": {
    "name": "ipython",
    "version": 3
   },
   "file_extension": ".py",
   "mimetype": "text/x-python",
   "name": "python",
   "nbconvert_exporter": "python",
   "pygments_lexer": "ipython3",
   "version": "3.7.7"
  }
 },
 "nbformat": 4,
 "nbformat_minor": 5
}
