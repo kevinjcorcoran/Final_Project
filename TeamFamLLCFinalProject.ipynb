{
 "cells": [
  {
   "cell_type": "markdown",
   "metadata": {},
   "source": [
    "# What is the Best Neighborhood in Pittsburgh?\n",
    "### *Team Fam, LLC*\n",
    "## Introduction:\n",
    "Using data from WPRDC, we aimed to find the best nieghborhood in Pittsburgh. Since everyone's definition of \"bestness\" may be different, we decided to approach this from the angle of raising a family. So, what makes a neighborhood family friendly? As a parent or guardian, one would want to raise their children in an environment that promotes development and learning through a strong school system, safety and quietness through a low crime rate, and social and physical well-being through local entertainment facilities. Ultimately, this all boils down two three main ideas:\n",
    "*Education, Safety, and Entertainment*.\n",
    "## The Metric\n",
    "In order to measure these attributes, we used the following data:\n",
    "- [School Enrollment](https://data.wprdc.org/dataset/pittsburgh-american-community-survey-2015-school-enrollment/resource/eb1f8714-e0eb-4614-acfe-dfe0ebab942f)\n",
    "- [Non-Traffic Citations](https://data.wprdc.org/dataset/non-traffic-citations/resource/6b11e87d-1216-463d-bbd3-37460e539d86?view_id=868aea6a-f85a-4547-8402-80c639555f13)\n",
    "- [Playgrounds](https://data.wprdc.org/dataset/playgrounds/resource/47350364-44a8-4d15-b6e0-5f79ddff9367)\n",
    "\n",
    "School enrollment data allowed us to see the percentage of the community enrolled in school (pre-college), non-traffic citations gave us information on the amount of crime in the area, and playground data provided a number of playground facilities available in each neighborhood. By implementing a simple scoring system that assigned values to each neighborhood based on their position in sorted data (the lowest score wins), we were able to show promising results that helped us determine the best neighborhood in Pittsburgh to raise a family. "
   ]
  },
  {
   "cell_type": "markdown",
   "metadata": {},
   "source": [
    "## School Enrollment:\n",
    "To study and display our data, we used pandas tables and graphs. The school enrollment data from WPRDC included those enrolled in nursery school through graduate school. Since Pittsburgh houses a high volume of college students, we decided that this part of the data would skew the result. So, we revised the dataset to only take into account those enrolled in grade 12 and under.\n",
    "As the top ten neighborhoods in the sorted data shows, Homewood North has the highest percentage of school age children enrolled in school. All of the following data was added to a dictionary which tracks the scores of all neighborhoods in the city."
   ]
  },
  {
   "cell_type": "code",
   "execution_count": 1,
   "metadata": {},
   "outputs": [],
   "source": [
    "import pandas as pd\n",
    "import numpy as np\n",
    "import matplotlib.pyplot as plt"
   ]
  },
  {
   "cell_type": "code",
   "execution_count": 2,
   "metadata": {},
   "outputs": [
    {
     "name": "stderr",
     "output_type": "stream",
     "text": [
      "<ipython-input-2-17afe8ceb70e>:9: SettingWithCopyWarning: \n",
      "A value is trying to be set on a copy of a slice from a DataFrame.\n",
      "Try using .loc[row_indexer,col_indexer] = value instead\n",
      "\n",
      "See the caveats in the documentation: https://pandas.pydata.org/pandas-docs/stable/user_guide/indexing.html#returning-a-view-versus-a-copy\n",
      "  enrollment_data_edit[\"Enrolled In College\"] = enrollment_data_raw[\"Estimate; Enrolled in school: - Enrolled in college, undergraduate years\"] + enrollment_data_raw[\"Estimate; Enrolled in school: - Graduate or professional school\"]\n",
      "<ipython-input-2-17afe8ceb70e>:10: SettingWithCopyWarning: \n",
      "A value is trying to be set on a copy of a slice from a DataFrame.\n",
      "Try using .loc[row_indexer,col_indexer] = value instead\n",
      "\n",
      "See the caveats in the documentation: https://pandas.pydata.org/pandas-docs/stable/user_guide/indexing.html#returning-a-view-versus-a-copy\n",
      "  enrollment_data_edit[\"Total\"] = enrollment_data_edit[\"Estimate; Total:\"] - enrollment_data_edit[\"Enrolled In College\"]\n",
      "<ipython-input-2-17afe8ceb70e>:11: SettingWithCopyWarning: \n",
      "A value is trying to be set on a copy of a slice from a DataFrame.\n",
      "Try using .loc[row_indexer,col_indexer] = value instead\n",
      "\n",
      "See the caveats in the documentation: https://pandas.pydata.org/pandas-docs/stable/user_guide/indexing.html#returning-a-view-versus-a-copy\n",
      "  enrollment_data_edit[\"Total Enrolled\"] = enrollment_data_edit[\"Estimate; Enrolled in school:\"] - enrollment_data_edit[\"Enrolled In College\"]\n",
      "<ipython-input-2-17afe8ceb70e>:15: SettingWithCopyWarning: \n",
      "A value is trying to be set on a copy of a slice from a DataFrame.\n",
      "Try using .loc[row_indexer,col_indexer] = value instead\n",
      "\n",
      "See the caveats in the documentation: https://pandas.pydata.org/pandas-docs/stable/user_guide/indexing.html#returning-a-view-versus-a-copy\n",
      "  enrollment_data[\"Percentage Enrolled In School\"] = (enrollment_data[\"Total Enrolled\"] / enrollment_data[\"Total\"])*100\n"
     ]
    },
    {
     "data": {
      "text/html": [
       "<div>\n",
       "<style scoped>\n",
       "    .dataframe tbody tr th:only-of-type {\n",
       "        vertical-align: middle;\n",
       "    }\n",
       "\n",
       "    .dataframe tbody tr th {\n",
       "        vertical-align: top;\n",
       "    }\n",
       "\n",
       "    .dataframe thead th {\n",
       "        text-align: right;\n",
       "    }\n",
       "</style>\n",
       "<table border=\"1\" class=\"dataframe\">\n",
       "  <thead>\n",
       "    <tr style=\"text-align: right;\">\n",
       "      <th></th>\n",
       "      <th>Neighborhood</th>\n",
       "      <th>Percentage Enrolled In School</th>\n",
       "    </tr>\n",
       "  </thead>\n",
       "  <tbody>\n",
       "    <tr>\n",
       "      <th>0</th>\n",
       "      <td>Homewood North</td>\n",
       "      <td>35.496737</td>\n",
       "    </tr>\n",
       "    <tr>\n",
       "      <th>1</th>\n",
       "      <td>Allentown</td>\n",
       "      <td>33.003016</td>\n",
       "    </tr>\n",
       "    <tr>\n",
       "      <th>2</th>\n",
       "      <td>Northview Heights</td>\n",
       "      <td>32.731377</td>\n",
       "    </tr>\n",
       "    <tr>\n",
       "      <th>3</th>\n",
       "      <td>Knoxville</td>\n",
       "      <td>31.243301</td>\n",
       "    </tr>\n",
       "    <tr>\n",
       "      <th>4</th>\n",
       "      <td>Elliott</td>\n",
       "      <td>31.046312</td>\n",
       "    </tr>\n",
       "    <tr>\n",
       "      <th>5</th>\n",
       "      <td>Bedford Dwellings</td>\n",
       "      <td>25.509372</td>\n",
       "    </tr>\n",
       "    <tr>\n",
       "      <th>6</th>\n",
       "      <td>Bon Air</td>\n",
       "      <td>25.263158</td>\n",
       "    </tr>\n",
       "    <tr>\n",
       "      <th>7</th>\n",
       "      <td>Mount Oliver Borough</td>\n",
       "      <td>23.436493</td>\n",
       "    </tr>\n",
       "    <tr>\n",
       "      <th>8</th>\n",
       "      <td>St. Clair</td>\n",
       "      <td>23.371648</td>\n",
       "    </tr>\n",
       "    <tr>\n",
       "      <th>9</th>\n",
       "      <td>Sheraden</td>\n",
       "      <td>23.153381</td>\n",
       "    </tr>\n",
       "  </tbody>\n",
       "</table>\n",
       "</div>"
      ],
      "text/plain": [
       "           Neighborhood  Percentage Enrolled In School\n",
       "0        Homewood North                      35.496737\n",
       "1             Allentown                      33.003016\n",
       "2     Northview Heights                      32.731377\n",
       "3             Knoxville                      31.243301\n",
       "4               Elliott                      31.046312\n",
       "5     Bedford Dwellings                      25.509372\n",
       "6               Bon Air                      25.263158\n",
       "7  Mount Oliver Borough                      23.436493\n",
       "8             St. Clair                      23.371648\n",
       "9              Sheraden                      23.153381"
      ]
     },
     "execution_count": 2,
     "metadata": {},
     "output_type": "execute_result"
    }
   ],
   "source": [
    "# Import raw dataset\n",
    "enrollment_data_raw = pd.read_csv(\"Enrollment-Data.csv\")\n",
    "# Pull columns needed for operations\n",
    "enrollment_data_edit = enrollment_data_raw[[\"Neighborhood\",\"Estimate; Total:\",\"Estimate; Enrolled in school:\",\\\n",
    "                                            \"Estimate; Enrolled in school: - Enrolled in college, undergraduate years\",\\\n",
    "                                            \"Estimate; Enrolled in school: - Graduate or professional school\"]]\n",
    "\n",
    "# Editing the columns so the total and total enrolled does not include college students\n",
    "enrollment_data_edit[\"Enrolled In College\"] = enrollment_data_raw[\"Estimate; Enrolled in school: - Enrolled in college, undergraduate years\"] + enrollment_data_raw[\"Estimate; Enrolled in school: - Graduate or professional school\"]\n",
    "enrollment_data_edit[\"Total\"] = enrollment_data_edit[\"Estimate; Total:\"] - enrollment_data_edit[\"Enrolled In College\"]\n",
    "enrollment_data_edit[\"Total Enrolled\"] = enrollment_data_edit[\"Estimate; Enrolled in school:\"] - enrollment_data_edit[\"Enrolled In College\"]\n",
    "\n",
    "# Creating a final data set with only the data needed and adding a column with the percentage enrolled\n",
    "enrollment_data = enrollment_data_edit[[\"Neighborhood\",\"Total\",\"Total Enrolled\"]]\n",
    "enrollment_data[\"Percentage Enrolled In School\"] = (enrollment_data[\"Total Enrolled\"] / enrollment_data[\"Total\"])*100\n",
    "enrollment_data = enrollment_data[[\"Neighborhood\", \"Percentage Enrolled In School\"]]\n",
    "\n",
    "#Sorting the values by percentage and displaying the data\n",
    "enrollment_data.sort_values(by = \"Percentage Enrolled In School\", ascending = False, inplace = True)\n",
    "enrollment_data.reset_index(inplace = True, drop = True)\n",
    "enrollment_data.head(10)"
   ]
  },
  {
   "cell_type": "code",
   "execution_count": 3,
   "metadata": {},
   "outputs": [
    {
     "data": {
      "text/plain": [
       "Text(0, 0.5, 'Neighborhood')"
      ]
     },
     "execution_count": 3,
     "metadata": {},
     "output_type": "execute_result"
    },
    {
     "data": {
      "image/png": "[encoded data removed]",
      "text/plain": [
       "<Figure size 1080x720 with 1 Axes>"
      ]
     },
     "metadata": {
      "needs_background": "light"
     },
     "output_type": "display_data"
    }
   ],
   "source": [
    "# Plotting the data on a bar graph\n",
    "enrollment_graph = enrollment_data.head(10).plot.barh(x = \"Neighborhood\",figsize = (15,10), legend = None, fontsize = 15)\n",
    "enrollment_graph.set_title(\"School Enrollment by Neighborhood\", fontsize = 25)\n",
    "enrollment_graph.set_xlabel(\"Percentage of Children Enrolled in School\", fontsize = 20)\n",
    "enrollment_graph.set_ylabel(\"Neighborhood\", fontsize = 20)"
   ]
  },
  {
   "cell_type": "code",
   "execution_count": 4,
   "metadata": {},
   "outputs": [
    {
     "data": {
      "text/plain": [
       "{'Homewood North': 0,\n",
       " 'Allentown': 1,\n",
       " 'Northview Heights': 2,\n",
       " 'Knoxville': 3,\n",
       " 'Elliott': 4,\n",
       " 'Bedford Dwellings': 5,\n",
       " 'Bon Air': 6,\n",
       " 'Mount Oliver Borough': 7,\n",
       " 'St. Clair': 8,\n",
       " 'Sheraden': 9,\n",
       " 'Homewood South': 10,\n",
       " 'Crafton Heights': 11,\n",
       " 'Hazelwood': 12,\n",
       " 'Spring Hill-City View': 13,\n",
       " 'New Homestead': 14,\n",
       " 'Perry South': 15,\n",
       " 'Windgap': 16,\n",
       " 'Fineview': 17,\n",
       " 'Garfield': 18,\n",
       " 'Larimer': 19,\n",
       " 'East Hills': 20,\n",
       " 'Lincoln-Lemington-Belmar': 21,\n",
       " 'Mt. Oliver': 22,\n",
       " 'Glen Hazel': 23,\n",
       " 'Squirrel Hill North': 24,\n",
       " 'Regent Square': 25,\n",
       " 'Carrick': 26,\n",
       " 'Highland Park': 27,\n",
       " 'Upper Lawrenceville': 28,\n",
       " 'East Liberty': 29,\n",
       " 'Crawford-Roberts': 30,\n",
       " 'Terrace Village': 31,\n",
       " 'Brookline': 32,\n",
       " 'Chartiers City': 33,\n",
       " 'Stanton Heights': 34,\n",
       " 'Point Breeze': 35,\n",
       " 'Brighton Heights': 36,\n",
       " 'Allegheny Center': 37,\n",
       " 'Arlington': 38,\n",
       " 'California-Kirkbride': 39,\n",
       " 'Overbrook': 40,\n",
       " 'Upper Hill': 41,\n",
       " 'Swisshelm Park': 42,\n",
       " 'Homewood West': 43,\n",
       " 'Central Northside': 44,\n",
       " 'Lower Lawrenceville': 45,\n",
       " 'Squirrel Hill South': 46,\n",
       " 'Perry North': 47,\n",
       " 'Manchester': 48,\n",
       " 'Lincoln Place': 49,\n",
       " 'Beechview': 50,\n",
       " 'South Oakland': 51,\n",
       " 'Westwood': 52,\n",
       " 'Hays': 53,\n",
       " 'Arlington Heights': 54,\n",
       " 'Summer Hill': 55,\n",
       " 'Beltzhoover': 56,\n",
       " 'Troy Hill': 57,\n",
       " 'Middle Hill': 58,\n",
       " 'West Oakland': 59,\n",
       " 'Greenfield': 60,\n",
       " 'East Carnegie': 61,\n",
       " 'Morningside': 62,\n",
       " 'Marshall-Shadeland': 63,\n",
       " 'Spring Garden': 64,\n",
       " 'Allegheny West': 65,\n",
       " 'South Side Slopes': 66,\n",
       " 'Oakwood': 67,\n",
       " 'Duquesne Heights': 68,\n",
       " 'Mount Washington': 69,\n",
       " 'Esplen': 70,\n",
       " 'North Oakland': 71,\n",
       " 'East Allegheny': 72,\n",
       " 'Banksville': 73,\n",
       " 'Bloomfield': 74,\n",
       " 'Friendship': 75,\n",
       " 'Central Lawrenceville': 76,\n",
       " 'Point Breeze North': 77,\n",
       " 'Fairywood': 78,\n",
       " 'North Shore': 79,\n",
       " 'Shadyside': 80,\n",
       " 'South Side Flats': 81,\n",
       " 'Polish Hill': 82,\n",
       " 'Strip District': 83,\n",
       " 'Central Oakland': 84,\n",
       " 'Bluff': 85,\n",
       " 'Central Business District': 86,\n",
       " 'South Shore': 87,\n",
       " 'Ridgemont': 88,\n",
       " 'West End': 89,\n",
       " 'Chateau': 90}"
      ]
     },
     "execution_count": 4,
     "metadata": {},
     "output_type": "execute_result"
    }
   ],
   "source": [
    "scores = dict()\n",
    "\n",
    "for item in enrollment_data[\"Neighborhood\"]:\n",
    "    if item not in scores:\n",
    "        scores[item] = enrollment_data[enrollment_data[\"Neighborhood\"] == item].index[0]\n",
    "    else:\n",
    "        scores[item] += enrollment_data[enrollment_data[\"Neighborhood\"] == item].index[0]\n",
    "scores"
   ]
  },
  {
   "cell_type": "markdown",
   "metadata": {},
   "source": [
    "## Safety - Non-traffic Citations:\n",
    "INSERT INTRO AND SUMMARY OF FINDINGS HERE"
   ]
  },
  {
   "cell_type": "code",
   "execution_count": 5,
   "metadata": {},
   "outputs": [],
   "source": [
    "## Enter code here"
   ]
  },
  {
   "cell_type": "markdown",
   "metadata": {},
   "source": [
    "## Playgrounds:\n",
    "INSERT INTRO AND SUMMARY OF FINDINGS HERE"
   ]
  },
  {
   "cell_type": "code",
   "execution_count": 6,
   "metadata": {},
   "outputs": [],
   "source": [
    "## Enter code here"
   ]
  },
  {
   "cell_type": "markdown",
   "metadata": {},
   "source": [
    "## Conclusion\n"
   ]
  },
  {
   "cell_type": "code",
   "execution_count": null,
   "metadata": {},
   "outputs": [],
   "source": []
  }
 ],
 "metadata": {
  "kernelspec": {
   "display_name": "Python 3",
   "language": "python",
   "name": "python3"
  },
  "language_info": {
   "codemirror_mode": {
    "name": "ipython",
    "version": 3
   },
   "file_extension": ".py",
   "mimetype": "text/x-python",
   "name": "python",
   "nbconvert_exporter": "python",
   "pygments_lexer": "ipython3",
   "version": "3.8.5"
  }
 },
 "nbformat": 4,
 "nbformat_minor": 4
}
